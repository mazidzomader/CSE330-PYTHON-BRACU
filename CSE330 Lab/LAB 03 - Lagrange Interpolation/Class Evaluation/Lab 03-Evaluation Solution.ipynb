{
 "cells": [
  {
   "cell_type": "code",
   "execution_count": 1,
   "id": "9b22ab6d",
   "metadata": {},
   "outputs": [],
   "source": [
    "import numpy as np"
   ]
  },
  {
   "cell_type": "code",
   "execution_count": null,
   "id": "924640b2",
   "metadata": {},
   "outputs": [],
   "source": [
    "class Lagrange_Polynomial:\n",
    "    def __init__(self, data_x, data_y):\n",
    "        '''\n",
    "        First we need to check whether the input vectors (numpy arrays) are equal\n",
    "        or not.\n",
    "        assert (condition), \"msg\"\n",
    "        this command checks if the condition is true or false. If true, the code\n",
    "        runs normally. But if false, then the code returns an error message \"msg\"\n",
    "        and stops execution\n",
    "        '''\n",
    "        assert len(data_x) == len(data_y), \"length of data_x and data_y must be equal\"\n",
    "\n",
    "        '''\n",
    "        Lagrange polynomials do not use coefficeints a_i, rather the nodes\n",
    "        (x_i, y_i). Hence, we just need to store these inside the object\n",
    "        '''\n",
    "\n",
    "        self.data_x = data_x\n",
    "        self.data_y = data_y\n",
    "\n",
    "        self.degree = len(data_x) - 1\n",
    "        # we assume that the inputs are numpy array, so we can perform\n",
    "        # element wise operations\n",
    "\n",
    "    def __repr__(self):\n",
    "        # method for string representation\n",
    "        # you don't need to worry about the following code if you don't understand\n",
    "        strL = f\"LagrangePolynomial of order {self.degree}\\n\"\n",
    "        strL += \"p(x) = \"\n",
    "        for i in range(len(self.data_y)):\n",
    "            if self.data_y[i] == 0:\n",
    "                continue\n",
    "            elif self.data_y[i] >= 0:\n",
    "                strL += f\"+ {self.data_y[i]}*l_{i}(x) \"\n",
    "            else:\n",
    "                strL += f\"- {-self.data_y[i]}*l_{i}(x) \"\n",
    "\n",
    "        return strL\n",
    "\n",
    "    def l(self, k, x):\n",
    "\n",
    "\n",
    "        l_k = 1.0 # Initialization\n",
    "\n",
    "        # --------------------------------------------\n",
    "        # YOUR CODE HERE\n",
    "        for i in range(len(self.data_x)):\n",
    "            if k == i:\n",
    "                continue\n",
    "            l_k *= (x-self.data_x[i])/(self.data_x[k]-self.data_x[i])\n",
    "\n",
    "        return l_k\n",
    "\n",
    "\n",
    "    def __call__(self, x_arr):\n",
    "\n",
    "        # initialize with zero\n",
    "        p_x_arr  = np.zeros(len(x_arr))\n",
    "\n",
    "        # --------------------------------------------\n",
    "        # YOUR CODE HERE\n",
    "        for i in range(len(x_arr)):\n",
    "            for ii in range(len(self.data_x)):\n",
    "                p_x_arr[i] += (self.l(ii, x_arr[i]))*self.data_y[ii]\n",
    "\n",
    "\n",
    "        return p_x_arr"
   ]
  },
  {
   "cell_type": "code",
   "execution_count": 3,
   "id": "4caa14af",
   "metadata": {},
   "outputs": [
    {
     "name": "stdout",
     "output_type": "stream",
     "text": [
      "LagrangePolynomial of order 2\n",
      "p(x) = - 207*l_0(x) + 65*l_1(x) + 2769*l_2(x) \n",
      "270.0\n",
      "Interpolation Error= 126.0\n"
     ]
    }
   ],
   "source": [
    "data_x = np.array([-4,4,12])\n",
    "data_y = np.array([-207, 65, 2769])\n",
    "\n",
    "u = Lagrange_Polynomial(data_x, data_y)\n",
    "print(u)\n",
    "\n",
    "\n",
    "x_arr = np.array([5])\n",
    "p_x_arr = u(x_arr)\n",
    "print(*p_x_arr)\n",
    "\n",
    "x = 5\n",
    "f_x = (2*(x **3))-(5*(x**2))+(2*x)+9\n",
    "err = p_x_arr[0]-f_x\n",
    "print(\"Interpolation Error=\", err)"
   ]
  }
 ],
 "metadata": {
  "kernelspec": {
   "display_name": "Python 3",
   "language": "python",
   "name": "python3"
  },
  "language_info": {
   "codemirror_mode": {
    "name": "ipython",
    "version": 3
   },
   "file_extension": ".py",
   "mimetype": "text/x-python",
   "name": "python",
   "nbconvert_exporter": "python",
   "pygments_lexer": "ipython3",
   "version": "3.13.5"
  }
 },
 "nbformat": 4,
 "nbformat_minor": 5
}
