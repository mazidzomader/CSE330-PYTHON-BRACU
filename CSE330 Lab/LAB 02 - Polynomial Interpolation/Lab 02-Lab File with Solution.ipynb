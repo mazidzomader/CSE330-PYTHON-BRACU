{
 "cells": [
  {
   "cell_type": "code",
   "execution_count": 10,
   "metadata": {
    "id": "4Rzax54Aj2PG"
   },
   "outputs": [],
   "source": [
    "import matplotlib.pyplot as plt\n",
    "import numpy as np\n"
   ]
  },
  {
   "cell_type": "code",
   "execution_count": 11,
   "metadata": {
    "id": "EjYn_pLuj2PH",
    "outputId": "e944d9a5-9bd9-47cf-adbe-116a6f4aad80"
   },
   "outputs": [
    {
     "name": "stdout",
     "output_type": "stream",
     "text": [
      "6553.0\n",
      "[8.0, 89.0, 424.0, 1313.0, 3176.0, 6553.0]\n"
     ]
    }
   ],
   "source": [
    "coeff = [1, 0, 2, 0, 5] # coefficients of the polynomial\n",
    "n = len(coeff) - 1 # degree. Remember: number of coeff = degree + 1\n",
    "\n",
    "'''\n",
    "For a single value of x, finding p(x)\n",
    "\n",
    "Note that this is an example of block comment in python. A block comment\n",
    "starts with three ' and ends with three '.\n",
    "'''\n",
    "\n",
    "x = 6.0\n",
    "p_x = 0.0\n",
    "\n",
    "\n",
    "#Your code HERE\n",
    "\n",
    "for i in range(len(coeff)):\n",
    "    p_x += coeff[i]*(x**i)\n",
    "\n",
    "x_arr = [1.0, 2.0, 3.0, 4.0, 5.0, 6.0]\n",
    "p_x_arr = []\n",
    "\n",
    "print(p_x)\n",
    "\n",
    "#Your code HERE\n",
    "p_x = 0.0\n",
    "for i in range(len(x_arr)):\n",
    "    for ii in range(len(coeff)):\n",
    "        p_x += coeff[ii]*(x_arr[i]**ii)\n",
    "    p_x_arr.append(p_x)\n",
    "    p_x = 0.0\n",
    "\n",
    "\n",
    "print(p_x_arr)"
   ]
  },
  {
   "cell_type": "code",
   "execution_count": 12,
   "metadata": {
    "id": "G8JI6LZrj2PI"
   },
   "outputs": [],
   "source": [
    "'''\n",
    "Lab task 1\n",
    "Here we implement a Polynomial class with three methods: the constructor\n",
    "__init__(), the toString method __repr__(), and a method to make the objects\n",
    "of the class callable, __call__() method\n",
    "'''\n",
    "\n",
    "# Polynomial Class\n",
    "\n",
    "class Polynomial:\n",
    "  # Constructor, note that it starts and ends with two underscores\n",
    "  def __init__(self, coeff):\n",
    "    '''\n",
    "    Every internal variable of the object must be saved and initialized\n",
    "    in this method: self.variable = value\n",
    "    '''\n",
    "    self.coeff = coeff\n",
    "    self.degree = len(coeff) - 1\n",
    "\n",
    "  # Constructor to make the object callable\n",
    "  def __call__(self, x_arr):\n",
    "    '''\n",
    "    Here we assumed x_arr is a numpy array. Remember that a numpy array acts\n",
    "    like a vector (1D matrix). So an operation x + 1 would add 1 to each element\n",
    "    of the matrix (unlike python's defaule list). Simlarly, x ** 2 would return\n",
    "    element wise square of the array.\n",
    "\n",
    "    Hence, this method would return an array, where the i'th element is the\n",
    "    (polynomial) interpolated value of x[i], given the coeffecients a[i].\n",
    "    '''\n",
    "    p_x_arr = np.zeros(len(x_arr))\n",
    "    # --------------------------------------------\n",
    "    # HINT: Should look like\n",
    "    for i in range(self.degree + 1):\n",
    "        p_x_arr += self.coeff[i]*(x_arr**i)\n",
    "    # --------------------------------------------\n",
    "\n",
    "    # remember 1: length = degree + 1 for a polynomial\n",
    "    # remember 2: range(0, a) is same as range(a)\n",
    "    # remember 3: range(a, b) means a is inclusive, b is exclusive\n",
    "\n",
    "    # --------------------------------------------\n",
    "    # YOUR CODE HERE -- Brute Force method\n",
    "    # p_x = 0\n",
    "    # for i in range(len(x_arr)):\n",
    "    #     for ii in range(len(coeff)):\n",
    "    #         p_x += coeff[ii]*(x_arr[i]**ii)\n",
    "    #     p_x_arr.append(p_x)\n",
    "    #     p_x = 0\n",
    "\n",
    "\n",
    "    return p_x_arr\n",
    "    # --------------------------------------------\n",
    "\n",
    "  # String representation method of the object (similar to toString() of java)\n",
    "  def __repr__(self):\n",
    "    # remember: a formatted string must start with f.\n",
    "\n",
    "    str_ret = f'Polynomial of degree {self.degree}\\np(x) = '\n",
    "    for i in range(self.degree + 1):\n",
    "        a_val = self.coeff[i]\n",
    "        if i != 0:\n",
    "            if a_val >= 0:\n",
    "                str_ret += f'+ {a_val}x^{i} '\n",
    "            else:\n",
    "                str_ret += f'- {-a_val}x^{i} '\n",
    "        else:\n",
    "            str_ret += f'{a_val}x^{i} '\n",
    "\n",
    "    return str_ret\n",
    "\n",
    "  # custom method 1: to get the degree of the polynomial\n",
    "  def get_degree(self):\n",
    "    # --------------------------------------------\n",
    "    # YOUR CODE HERE\n",
    "    return self.degree\n",
    "    # --------------------------------------------\n",
    "\n",
    "  # custom method 2: to get the coefficients of the polynomial\n",
    "  def get_coeffs(self):\n",
    "    # --------------------------------------------\n",
    "    # YOUR CODE HERE\n",
    "    return self.coeff\n",
    "\n",
    "    # --------------------------------------------"
   ]
  },
  {
   "cell_type": "code",
   "execution_count": 13,
   "metadata": {
    "id": "ja3EAMB2j2PI",
    "outputId": "c4ddb282-4953-4f4f-bf18-499d1478e100"
   },
   "outputs": [
    {
     "name": "stdout",
     "output_type": "stream",
     "text": [
      "[   8.   89.  424. 1313. 3176.]\n",
      "None\n"
     ]
    }
   ],
   "source": [
    "# test cases for your answer\n",
    "x_arr = np.array([1, 2, 3, 4, 5])\n",
    "\n",
    "coeff = np.array([1.0, 0.0, 2.0, 0.0, 5.0])\n",
    "p = Polynomial(coeff)\n",
    "\n",
    "results = [8, 89, 424, 1313, 3176]\n",
    "test = p(x_arr)\n",
    "print(test)\n",
    "x = np.testing.assert_array_equal(results, test)\n",
    "print(x)"
   ]
  },
  {
   "cell_type": "code",
   "execution_count": 14,
   "metadata": {
    "id": "U5ySn-Bgj2PI",
    "outputId": "f5d7f76b-cd31-4096-f07c-5439669fb2e5"
   },
   "outputs": [
    {
     "name": "stdout",
     "output_type": "stream",
     "text": [
      "Polynomial of degree 4\n",
      "p(x) = 1.0x^0 + 0.0x^1 + 2.0x^2 + 0.0x^3 + 5.0x^4 \n",
      "\n",
      "p([1 2 3 4 5]) = [   8.   89.  424. 1313. 3176.]\n"
     ]
    }
   ],
   "source": [
    "# an example to see if our implementation works\n",
    "coeff = np.array([1.0, 0.0, 2.0, 0.0, 5.0])\n",
    "p = Polynomial(coeff)\n",
    "print(p)  # check if printable\n",
    "x_arr = np.array([1, 2, 3, 4, 5])\n",
    "print()\n",
    "print(f\"p({x_arr}) =\", p(x_arr)) # check if the object is callable\n",
    "# should print p([1 2 3 4 5]) =  [   8.   89.  424. 1313. 3176.]"
   ]
  },
  {
   "cell_type": "code",
   "execution_count": 15,
   "metadata": {
    "id": "hFdKjDA8j2PI",
    "outputId": "907a6277-4204-4bee-ebc8-3081601cad75"
   },
   "outputs": [
    {
     "name": "stdout",
     "output_type": "stream",
     "text": [
      "[[   1.   -3.    9.  -27.   81. -243.]\n",
      " [   1.   -2.    4.   -8.   16.  -32.]\n",
      " [   1.   -1.    1.   -1.    1.   -1.]\n",
      " [   1.    0.    0.    0.    0.    0.]\n",
      " [   1.    1.    1.    1.    1.    1.]\n",
      " [   1.    3.    9.   27.   81.  243.]]\n"
     ]
    },
    {
     "data": {
      "text/plain": [
       "Polynomial of degree 5\n",
       "p(x) = 0.9999999999999728x^0 - 5.074999999999989x^1 + 5.52083333333332x^2 + 4.854166666666673x^3 - 1.0208333333333346x^4 - 0.27916666666666656x^5 "
      ]
     },
     "execution_count": 15,
     "metadata": {},
     "output_type": "execute_result"
    }
   ],
   "source": [
    "'''\n",
    "Here we implement a function which takes a discrete x and y array, and returns\n",
    "a Polynomial object (the one we just implemented). This polynomial object can\n",
    "be used to calculate y for any other value of x (not in that list) within the\n",
    "range\n",
    "'''\n",
    "def get_poly(data_x, data_y):\n",
    "    n_nodes = len(data_x)\n",
    "    # np.zeors((a, b)) returns a (a x b) matrix, i.e., a rows and b columns\n",
    "    X = np.zeros((n_nodes, n_nodes)) #6*6\n",
    "\n",
    "\n",
    "    # Populate the X matrix with appropriate values\n",
    "    # YOUR CODE HERE\n",
    "    for i in range(n_nodes):\n",
    "        for ii in range(n_nodes):\n",
    "            X[i][ii] = data_x[i]**ii\n",
    "\n",
    "    print(X)\n",
    "    # --------------------------------------------\n",
    "    # np.linalg.inv is used to find the inverse\n",
    "    # but pinv is more efficient\n",
    "    X_inv = np.linalg.pinv(X) # pseudo inverse  #a = inv(X)*y\n",
    "    a = np.dot(X_inv, data_y)\n",
    "    p = Polynomial(a)\n",
    "\n",
    "    return p\n",
    "data_x = np.array([-3., -2., -1., 0., 1., 3.])   # (-3, -80), (-2, -13)......\n",
    "data_y = np.array([-80., -13., 6., 1., 5., 16.])\n",
    "get_poly(data_x, data_y)"
   ]
  },
  {
   "cell_type": "code",
   "execution_count": 16,
   "metadata": {
    "id": "cf_WTAuqj2PJ",
    "outputId": "58e1224c-62d7-4807-b05d-de81dcc6ab3d"
   },
   "outputs": [
    {
     "name": "stdout",
     "output_type": "stream",
     "text": [
      "[[   1.   -3.    9.  -27.   81. -243.]\n",
      " [   1.   -2.    4.   -8.   16.  -32.]\n",
      " [   1.   -1.    1.   -1.    1.   -1.]\n",
      " [   1.    0.    0.    0.    0.    0.]\n",
      " [   1.    1.    1.    1.    1.    1.]\n",
      " [   1.    3.    9.   27.   81.  243.]]\n",
      "[-80.         -74.60997689 -69.36169492 -64.26436346 -59.32622134\n",
      " -54.55456417 -49.95577177 -45.53533558 -41.297886   -37.24721982\n",
      " -33.38632762 -29.71742112 -26.24196062 -22.96068235 -19.87362589\n",
      " -16.98016156 -14.2790178  -11.76830857  -9.44556072  -7.30774144\n",
      "  -5.35128559  -3.57212312  -1.96570645  -0.52703788   0.74930302\n",
      "   1.86913203   2.83863291   3.66432993   4.35306058   4.9119481\n",
      "   5.34837412   5.66995126   5.88449574   6.           6.02460529\n",
      "   5.96657428   5.83426368   5.63609684   5.38053634   5.07605665\n",
      "   4.73111668   4.35413242   3.95344953   3.53731597   3.1138546\n",
      "   2.69103576   2.27664993   1.87828029   1.50327536   1.15872159\n",
      "   0.85141596   0.58783863   0.3741255    0.21604084   0.1189499\n",
      "   0.0877915    0.12705066   0.2407312    0.43232834   0.70480134\n",
      "   1.06054604   1.50136754   2.02845277   2.64234311   3.34290699\n",
      "   4.1293125    5.           5.95265474   6.98417944   8.09066693\n",
      "   9.26737272  10.50868766  11.80811047  13.15822045  14.55065\n",
      "  15.97605727  17.42409876  18.88340192  20.34153777  21.78499351\n",
      "  23.19914511  24.56822994  25.87531935  27.1022913   28.22980298\n",
      "  29.23726338  30.10280593  30.80326108  31.31412894  31.60955188\n",
      "  31.6622871   31.4436793   30.92363323  30.07058634  28.85148136\n",
      "  27.23173894  25.17523021  22.64424943  19.59948659  16.        ]\n",
      "None\n"
     ]
    }
   ],
   "source": [
    "# test cases for your answer\n",
    "data_x = np.array([-3., -2., -1., 0., 1., 3.])   # (-3, -80), (-2, -13)......\n",
    "data_y = np.array([-80., -13., 6., 1., 5., 16.])\n",
    "p = get_poly(data_x, data_y)\n",
    "\n",
    "results = np.array([-80, -74.60997689, -69.36169492, -64.26436346, -59.32622134,\n",
    "                   -54.55456417, -49.95577177, -45.53533558, -41.297886, -37.24721982,\n",
    "                   -33.38632762, -29.71742112, -26.24196062, -22.96068235, -19.87362589,\n",
    "                   -16.98016156, -14.2790178, -11.76830857,  -9.44556072,  -7.30774144,\n",
    "                   -5.35128559, -3.57212312, -1.96570645, -0.52703788, 0.74930302,\n",
    "                   1.86913203, 2.83863291, 3.66432993, 4.35306058, 4.9119481,\n",
    "                   5.34837412, 5.66995126, 5.88449574, 6, 6.02460529,\n",
    "                   5.96657428, 5.83426368, 5.63609684, 5.38053634, 5.07605665,\n",
    "                   4.73111668, 4.35413242, 3.95344953, 3.53731597, 3.1138546,\n",
    "                   2.69103576, 2.27664993, 1.87828029, 1.50327536, 1.15872159,\n",
    "                   0.85141596, 0.58783863, 0.3741255, 0.21604084, 0.1189499,\n",
    "                   0.0877915, 0.12705066, 0.2407312, 0.43232834, 0.70480134,\n",
    "                   1.06054604, 1.50136754, 2.02845277, 2.64234311, 3.34290699,\n",
    "                   4.1293125, 5, 5.95265474, 6.98417944, 8.09066693,\n",
    "                   9.26737272, 10.50868766, 11.80811047, 13.15822045, 14.55065,\n",
    "                   15.97605727, 17.42409876, 18.88340192, 20.34153777, 21.78499351,\n",
    "                   23.19914511, 24.56822994, 25.87531935, 27.1022913, 28.22980298,\n",
    "                   29.23726338, 30.10280593, 30.80326108, 31.31412894, 31.60955188,\n",
    "                   31.6622871, 31.4436793, 30.92363323, 30.07058634, 28.85148136,\n",
    "                   27.23173894, 25.17523021, 22.64424943, 19.59948659, 16])\n",
    "\n",
    "x_arr = np.linspace(-3, 3, 100)\n",
    "test = p(x_arr)\n",
    "print(test)\n",
    "print(np.testing.assert_array_almost_equal(test, results))"
   ]
  },
  {
   "cell_type": "code",
   "execution_count": 17,
   "metadata": {
    "id": "qKS-phbDj2PJ",
    "outputId": "320f920d-7bac-42d3-99d9-5cede2fb54f4"
   },
   "outputs": [
    {
     "name": "stdout",
     "output_type": "stream",
     "text": [
      "[[   1.   -3.    9.  -27.   81. -243.]\n",
      " [   1.   -2.    4.   -8.   16.  -32.]\n",
      " [   1.   -1.    1.   -1.    1.   -1.]\n",
      " [   1.    0.    0.    0.    0.    0.]\n",
      " [   1.    1.    1.    1.    1.    1.]\n",
      " [   1.    3.    9.   27.   81.  243.]]\n"
     ]
    },
    {
     "data": {
      "image/png": "[encoded data removed]",
      "text/plain": [
       "<Figure size 640x480 with 1 Axes>"
      ]
     },
     "metadata": {},
     "output_type": "display_data"
    }
   ],
   "source": [
    "data_x = np.array([-3., -2., -1., 0., 1., 3.])\n",
    "data_y = np.array([-80., -13., 6., 1., 5., 16.])\n",
    "p = get_poly(data_x, data_y)\n",
    "'''\n",
    "np.linspace(a, b, n) returns a numpy array of n points equally\n",
    "spaced from a to b\n",
    "'''\n",
    "x_arr = np.linspace(-3, 3, 100)\n",
    "# interpolated values\n",
    "y_interp = p(x_arr)\n",
    "\n",
    "# pyplot is used for plotting\n",
    "# Must read: [https://www.tutorialspoint.com/numpy/numpy_matplotlib.htm]\n",
    "\n",
    "plt.plot(x_arr, y_interp, 'r')\n",
    "plt.plot(data_x, data_y, 'k*')\n",
    "plt.xlabel('x - axis')\n",
    "plt.ylabel('y - axis')\n",
    "\n",
    "\n",
    "plt.show()"
   ]
  }
 ],
 "metadata": {
  "colab": {
   "provenance": []
  },
  "kernelspec": {
   "display_name": "Python 3",
   "language": "python",
   "name": "python3"
  },
  "language_info": {
   "codemirror_mode": {
    "name": "ipython",
    "version": 3
   },
   "file_extension": ".py",
   "mimetype": "text/x-python",
   "name": "python",
   "nbconvert_exporter": "python",
   "pygments_lexer": "ipython3",
   "version": "3.13.5"
  }
 },
 "nbformat": 4,
 "nbformat_minor": 0
}
